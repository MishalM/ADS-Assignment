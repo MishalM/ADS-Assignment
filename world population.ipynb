{
 "cells": [
  {
   "cell_type": "code",
   "execution_count": 1,
   "id": "233183c0",
   "metadata": {},
   "outputs": [],
   "source": [
    "import pandas as pd\n",
    "import numpy as np\n",
    "import matplotlib.pyplot as plt\n",
    "import seaborn as sns"
   ]
  },
  {
   "cell_type": "code",
   "execution_count": 2,
   "id": "524fbd72",
   "metadata": {},
   "outputs": [
    {
     "data": {
      "text/html": [
       "<div>\n",
       "<style scoped>\n",
       "    .dataframe tbody tr th:only-of-type {\n",
       "        vertical-align: middle;\n",
       "    }\n",
       "\n",
       "    .dataframe tbody tr th {\n",
       "        vertical-align: top;\n",
       "    }\n",
       "\n",
       "    .dataframe thead th {\n",
       "        text-align: right;\n",
       "    }\n",
       "</style>\n",
       "<table border=\"1\" class=\"dataframe\">\n",
       "  <thead>\n",
       "    <tr style=\"text-align: right;\">\n",
       "      <th></th>\n",
       "      <th>Rank</th>\n",
       "      <th>Country</th>\n",
       "      <th>Region</th>\n",
       "      <th>Population</th>\n",
       "      <th>Percentage</th>\n",
       "      <th>Date</th>\n",
       "    </tr>\n",
       "  </thead>\n",
       "  <tbody>\n",
       "    <tr>\n",
       "      <th>0</th>\n",
       "      <td>1</td>\n",
       "      <td>China</td>\n",
       "      <td>Asia</td>\n",
       "      <td>1411778724</td>\n",
       "      <td>17.80%</td>\n",
       "      <td>20-Nov</td>\n",
       "    </tr>\n",
       "    <tr>\n",
       "      <th>1</th>\n",
       "      <td>2</td>\n",
       "      <td>India</td>\n",
       "      <td>Asia</td>\n",
       "      <td>1386141732</td>\n",
       "      <td>17.50%</td>\n",
       "      <td>21-Dec</td>\n",
       "    </tr>\n",
       "    <tr>\n",
       "      <th>2</th>\n",
       "      <td>3</td>\n",
       "      <td>United States</td>\n",
       "      <td>Americas</td>\n",
       "      <td>332960297</td>\n",
       "      <td>4.20%</td>\n",
       "      <td>21-Dec</td>\n",
       "    </tr>\n",
       "    <tr>\n",
       "      <th>3</th>\n",
       "      <td>4</td>\n",
       "      <td>Indonesia</td>\n",
       "      <td>Asia</td>\n",
       "      <td>271350000</td>\n",
       "      <td>3.43%</td>\n",
       "      <td>20-Dec</td>\n",
       "    </tr>\n",
       "    <tr>\n",
       "      <th>4</th>\n",
       "      <td>5</td>\n",
       "      <td>Pakistan</td>\n",
       "      <td>Asia</td>\n",
       "      <td>225200000</td>\n",
       "      <td>2.84%</td>\n",
       "      <td>21-Jul</td>\n",
       "    </tr>\n",
       "  </tbody>\n",
       "</table>\n",
       "</div>"
      ],
      "text/plain": [
       "   Rank        Country    Region  Population Percentage    Date\n",
       "0     1          China      Asia  1411778724     17.80%  20-Nov\n",
       "1     2          India      Asia  1386141732     17.50%  21-Dec\n",
       "2     3  United States  Americas   332960297      4.20%  21-Dec\n",
       "3     4      Indonesia      Asia   271350000      3.43%  20-Dec\n",
       "4     5       Pakistan      Asia   225200000      2.84%  21-Jul"
      ]
     },
     "execution_count": 2,
     "metadata": {},
     "output_type": "execute_result"
    }
   ],
   "source": [
    "#Read Data\n",
    "data = pd.read_csv('World Population-1.csv')\n",
    "data.head()"
   ]
  },
  {
   "cell_type": "code",
   "execution_count": 3,
   "id": "c6251d8b",
   "metadata": {},
   "outputs": [
    {
     "data": {
      "text/plain": [
       "(241, 6)"
      ]
     },
     "execution_count": 3,
     "metadata": {},
     "output_type": "execute_result"
    }
   ],
   "source": [
    "# Print the shape of data\n",
    "data.shape"
   ]
  },
  {
   "cell_type": "code",
   "execution_count": 4,
   "id": "02d24c17",
   "metadata": {},
   "outputs": [
    {
     "data": {
      "text/plain": [
       "Rank          0\n",
       "Country       0\n",
       "Region        0\n",
       "Population    0\n",
       "Percentage    0\n",
       "Date          0\n",
       "dtype: int64"
      ]
     },
     "execution_count": 4,
     "metadata": {},
     "output_type": "execute_result"
    }
   ],
   "source": [
    "# Check for null values in the data set\n",
    "data.isnull().sum()"
   ]
  },
  {
   "cell_type": "code",
   "execution_count": 5,
   "id": "bce0d67e",
   "metadata": {},
   "outputs": [
    {
     "name": "stdout",
     "output_type": "stream",
     "text": [
      "There are 241 countries from 5 regions\n"
     ]
    }
   ],
   "source": [
    "#No of countries and region\n",
    "n_country = len(data['Country'].unique())\n",
    "n_region = len(data['Region'].unique())\n",
    "print(f'There are {n_country} countries from {n_region} regions')"
   ]
  },
  {
   "cell_type": "code",
   "execution_count": 6,
   "id": "95c27d4a",
   "metadata": {},
   "outputs": [
    {
     "data": {
      "image/png": "[encoded data removed]",
      "text/plain": [
       "<Figure size 432x288 with 1 Axes>"
      ]
     },
     "metadata": {
      "needs_background": "light"
     },
     "output_type": "display_data"
    }
   ],
   "source": [
    "#Population of top 5 countries\n",
    "plt.bar(data['Country'][:5],data['Population'][:5])\n",
    "plt.xlabel(\"Countries\")\n",
    "plt.xticks(rotation=60)\n",
    "plt.ylabel(\"Population in billion\")\n",
    "plt.title(\"Population in top 5 countries\")\n",
    "plt.show()"
   ]
  },
  {
   "cell_type": "code",
   "execution_count": 7,
   "id": "409cf757",
   "metadata": {},
   "outputs": [
    {
     "name": "stdout",
     "output_type": "stream",
     "text": [
      "From the top 5 countries with highest population we have 3627430753 people which is 45.77% of world population\n"
     ]
    }
   ],
   "source": [
    "#Percetnage of population in top 5 countries\n",
    "pop_5 = data['Population'][:5].sum()\n",
    "pop_5_per = 0\n",
    "for i in data['Percentage'][:5]:\n",
    "    per = float(i.replace('%',''))\n",
    "    pop_5_per += per\n",
    "    \n",
    "print(f'From the top 5 countries with highest population we have {pop_5} people which is {round(pop_5_per,2)}% of world population')"
   ]
  },
  {
   "cell_type": "code",
   "execution_count": 8,
   "id": "8e7ba305",
   "metadata": {},
   "outputs": [
    {
     "name": "stdout",
     "output_type": "stream",
     "text": [
      "     Region  Population\n",
      "0    Africa  1345290019\n",
      "1  Americas  1024609723\n",
      "2      Asia  4628780973\n",
      "3    Europe   747044106\n",
      "4   Oceania    43609090\n"
     ]
    },
    {
     "data": {
      "image/png": "[encoded data removed]",
      "text/plain": [
       "<Figure size 504x504 with 1 Axes>"
      ]
     },
     "metadata": {},
     "output_type": "display_data"
    }
   ],
   "source": [
    "#Population in region\n",
    "region_population = data.groupby(['Region'], as_index=False)['Population'].sum()\n",
    "print(region_population)\n",
    "\n",
    "f = plt.figure()\n",
    "f.set_figwidth(7)\n",
    "f.set_figheight(7)\n",
    "plt.pie(region_population['Population'],labels = region_population['Region'],autopct='%1.1f%%')\n",
    "plt.title(\"Population in region\")\n",
    "plt.show()"
   ]
  },
  {
   "cell_type": "code",
   "execution_count": 9,
   "id": "45ddd1ca",
   "metadata": {},
   "outputs": [
    {
     "data": {
      "image/png": "[encoded data removed]",
      "text/plain": [
       "<Figure size 432x288 with 1 Axes>"
      ]
     },
     "metadata": {
      "needs_background": "light"
     },
     "output_type": "display_data"
    }
   ],
   "source": [
    "#Population of top 5 countries\n",
    "plt.scatter(data['Country'][:5],data['Percentage'][:5])\n",
    "plt.xlabel(\"Countries\")\n",
    "plt.ylabel(\"Population in billion\")\n",
    "plt.title(\"Population in top 5 countries\")\n",
    "plt.show()"
   ]
  },
  {
   "cell_type": "code",
   "execution_count": 10,
   "id": "9136ad66",
   "metadata": {},
   "outputs": [
    {
     "data": {
      "text/html": [
       "<div>\n",
       "<style scoped>\n",
       "    .dataframe tbody tr th:only-of-type {\n",
       "        vertical-align: middle;\n",
       "    }\n",
       "\n",
       "    .dataframe tbody tr th {\n",
       "        vertical-align: top;\n",
       "    }\n",
       "\n",
       "    .dataframe thead th {\n",
       "        text-align: right;\n",
       "    }\n",
       "</style>\n",
       "<table border=\"1\" class=\"dataframe\">\n",
       "  <thead>\n",
       "    <tr style=\"text-align: right;\">\n",
       "      <th></th>\n",
       "      <th>Region</th>\n",
       "      <th>Population</th>\n",
       "    </tr>\n",
       "  </thead>\n",
       "  <tbody>\n",
       "    <tr>\n",
       "      <th>0</th>\n",
       "      <td>Africa</td>\n",
       "      <td>2.402304e+07</td>\n",
       "    </tr>\n",
       "    <tr>\n",
       "      <th>1</th>\n",
       "      <td>Americas</td>\n",
       "      <td>2.009039e+07</td>\n",
       "    </tr>\n",
       "    <tr>\n",
       "      <th>2</th>\n",
       "      <td>Asia</td>\n",
       "      <td>8.571817e+07</td>\n",
       "    </tr>\n",
       "    <tr>\n",
       "      <th>3</th>\n",
       "      <td>Europe</td>\n",
       "      <td>1.409517e+07</td>\n",
       "    </tr>\n",
       "    <tr>\n",
       "      <th>4</th>\n",
       "      <td>Oceania</td>\n",
       "      <td>1.615151e+06</td>\n",
       "    </tr>\n",
       "  </tbody>\n",
       "</table>\n",
       "</div>"
      ],
      "text/plain": [
       "     Region    Population\n",
       "0    Africa  2.402304e+07\n",
       "1  Americas  2.009039e+07\n",
       "2      Asia  8.571817e+07\n",
       "3    Europe  1.409517e+07\n",
       "4   Oceania  1.615151e+06"
      ]
     },
     "execution_count": 10,
     "metadata": {},
     "output_type": "execute_result"
    }
   ],
   "source": [
    "#mean population of each region\n",
    "region_mean = data.groupby(['Region'], as_index=False)['Population'].mean()\n",
    "region_mean"
   ]
  },
  {
   "cell_type": "code",
   "execution_count": 11,
   "id": "e542222a",
   "metadata": {},
   "outputs": [
    {
     "data": {
      "image/png": "[encoded data removed]",
      "text/plain": [
       "<Figure size 432x288 with 1 Axes>"
      ]
     },
     "metadata": {
      "needs_background": "light"
     },
     "output_type": "display_data"
    }
   ],
   "source": [
    "# Highest populatesd country in each region\n",
    "reg_h = data.groupby(['Region'])['Population'].transform(max) == data['Population']\n",
    "data[reg_h]\n",
    "high_country = data[reg_h]['Country'].to_list()\n",
    "high_region = data[reg_h]['Region'].to_list()\n",
    "high_population = data[reg_h]['Population'].to_list()\n",
    "\n",
    "plt.bar(high_region,high_population)\n",
    "plt.ylabel(\"Population in billion\")\n",
    "plt.title(\"Highest populated country in each regionx\")\n",
    "plt.show()"
   ]
  },
  {
   "cell_type": "code",
   "execution_count": 12,
   "id": "6e8e96ad",
   "metadata": {},
   "outputs": [
    {
     "name": "stdout",
     "output_type": "stream",
     "text": [
      "From Asia it is China with a population of 1411778724\n",
      "From Americas it is United States with a population of 332960297\n",
      "From Africa it is Nigeria with a population of 211401000\n",
      "From Europe it is Russia with a population of 146171015\n",
      "From Oceania it is Australia with a population of 25922849\n"
     ]
    }
   ],
   "source": [
    "for i in range(5):\n",
    "    print(f'From {high_region[i]} it is {high_country[i]} with a population of {high_population[i]}')"
   ]
  }
 ],
 "metadata": {
  "kernelspec": {
   "display_name": "Python 3 (ipykernel)",
   "language": "python",
   "name": "python3"
  },
  "language_info": {
   "codemirror_mode": {
    "name": "ipython",
    "version": 3
   },
   "file_extension": ".py",
   "mimetype": "text/x-python",
   "name": "python",
   "nbconvert_exporter": "python",
   "pygments_lexer": "ipython3",
   "version": "3.10.2"
  }
 },
 "nbformat": 4,
 "nbformat_minor": 5
}
